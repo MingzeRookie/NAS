{
 "cells": [
  {
   "cell_type": "code",
   "execution_count": 1,
   "metadata": {},
   "outputs": [
    {
     "name": "stdout",
     "output_type": "stream",
     "text": [
      "2.5.1\n",
      "True\n"
     ]
    }
   ],
   "source": [
    "import torch\n",
    "print(torch.__version__)          # 查看 PyTorch 版本\n",
    "print(torch.cuda.is_available())  # 应输出 True"
   ]
  },
  {
   "cell_type": "code",
   "execution_count": 2,
   "metadata": {},
   "outputs": [
    {
     "name": "stdout",
     "output_type": "stream",
     "text": [
      "No fused RMSNorm\n",
      "No fused RMSNorm\n",
      "Number of parameters in 1 layer diff_attn_mha: 4194688\n",
      "Number of parameters in 1 layer attn_mha: 4194304\n",
      "Number of parameters in 1 layer diff_attn_gqa: 3146112\n",
      "Number of parameters in 1 layer attn_gqa: 3145728\n"
     ]
    }
   ],
   "source": [
    "from multihead_diffattn import MultiheadDiffAttn\n",
    "from multihead_attention import MultiheadAttention\n",
    "\n",
    "# Diff Attention with MHA, 1024 embed_dim, 8 heads, 8 kv_heads\n",
    "diff_attn_mha = MultiheadDiffAttn(embed_dim=1024, depth=0, num_heads=8, num_kv_heads=None)\n",
    "# can be compared against baseline Attention with MHA, 1024 embed_dim, 16 heads, 16 kv_heads\n",
    "attn_mha = MultiheadAttention(embed_dim=1024, depth=0, num_heads=16, num_kv_heads=None)\n",
    "# write code to print their number of parameters\n",
    "print(\"Number of parameters in 1 layer diff_attn_mha:\", sum(p.numel() for p in diff_attn_mha.parameters()))\n",
    "print(\"Number of parameters in 1 layer attn_mha:\", sum(p.numel() for p in attn_mha.parameters()))\n",
    "\n",
    "\n",
    "# Diff Attention with GQA, 1024 embed_dim, 8 heads, 4 kv_heads\n",
    "diff_attn_gqa = MultiheadDiffAttn(embed_dim=1024, depth=0, num_heads=8, num_kv_heads=4)\n",
    "# can be compared against baseline Attention with GQA, 1024 embed_dim, 16 heads, 8 kv_heads\n",
    "attn_gqa = MultiheadAttention(embed_dim=1024, depth=0, num_heads=16, num_kv_heads=8)\n",
    "print(\"Number of parameters in 1 layer diff_attn_gqa:\", sum(p.numel() for p in diff_attn_gqa.parameters()))\n",
    "print(\"Number of parameters in 1 layer attn_gqa:\", sum(p.numel() for p in attn_gqa.parameters()))"
   ]
  },
  {
   "cell_type": "code",
   "execution_count": 2,
   "metadata": {},
   "outputs": [
    {
     "name": "stdout",
     "output_type": "stream",
     "text": [
      "No fused RMSNorm\n",
      "Number of parameters in 1 layer diff_attn_gqa: 3146112\n",
      "Number of parameters in 1 layer attn_gqa: 3145728\n"
     ]
    }
   ],
   "source": [
    "from multihead_flashdiff import MultiheadFlashDiff\n",
    "from multihead_attention import MultiheadAttention\n",
    "\n",
    "# Diff Attention with GQA, 1024 embed_dim, 8 heads, 4 kv_heads\n",
    "diff_attn_gqa = MultiheadFlashDiff(embed_dim=1024, depth=0, num_heads=8, num_kv_heads=4)\n",
    "# can be compared against baseline Attention with GQA, 1024 embed_dim, 16 heads, 8 kv_heads\n",
    "attn_gqa = MultiheadAttention(embed_dim=1024, depth=0, num_heads=16, num_kv_heads=8)\n",
    "print(\"Number of parameters in 1 layer diff_attn_gqa:\", sum(p.numel() for p in diff_attn_gqa.parameters()))\n",
    "print(\"Number of parameters in 1 layer attn_gqa:\", sum(p.numel() for p in attn_gqa.parameters()))"
   ]
  },
  {
   "cell_type": "code",
   "execution_count": 4,
   "metadata": {},
   "outputs": [],
   "source": [
    "diff_attn_gqa = diff_attn_gqa.cuda()"
   ]
  },
  {
   "cell_type": "code",
   "execution_count": 6,
   "metadata": {},
   "outputs": [
    {
     "data": {
      "text/plain": [
       "0.7408182206817179"
      ]
     },
     "execution_count": 6,
     "metadata": {},
     "output_type": "execute_result"
    }
   ],
   "source": [
    "import math\n",
    "\n",
    "math.exp(-0.3)"
   ]
  }
 ],
 "metadata": {
  "kernelspec": {
   "display_name": "base",
   "language": "python",
   "name": "python3"
  },
  "language_info": {
   "codemirror_mode": {
    "name": "ipython",
    "version": 3
   },
   "file_extension": ".py",
   "mimetype": "text/x-python",
   "name": "python",
   "nbconvert_exporter": "python",
   "pygments_lexer": "ipython3",
   "version": "3.9.21"
  }
 },
 "nbformat": 4,
 "nbformat_minor": 2
}
