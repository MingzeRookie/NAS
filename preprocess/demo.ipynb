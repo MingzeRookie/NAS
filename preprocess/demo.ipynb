{
 "cells": [
  {
   "cell_type": "code",
   "execution_count": 2,
   "metadata": {},
   "outputs": [
    {
     "name": "stdout",
     "output_type": "stream",
     "text": [
      "共发现 560 个 .pt，开始处理…\n"
     ]
    },
    {
     "name": "stderr",
     "output_type": "stream",
     "text": [
      "100%|██████████| 560/560 [00:43<00:00, 12.97file/s]"
     ]
    },
    {
     "name": "stdout",
     "output_type": "stream",
     "text": [
      "✅ 全部完成！\n",
      "前 5 行 coords：\n",
      " tensor([[146, 315],\n",
      "        [146, 316],\n",
      "        [146, 317],\n",
      "        [146, 334],\n",
      "        [146, 335]], dtype=torch.int32)\n",
      "后 5 行 coords：\n",
      " tensor([[289, 381],\n",
      "        [289, 382],\n",
      "        [289, 383],\n",
      "        [289, 384],\n",
      "        [289, 385]], dtype=torch.int32)\n"
     ]
    },
    {
     "name": "stderr",
     "output_type": "stream",
     "text": [
      "\n"
     ]
    }
   ],
   "source": [
    "# %% [markdown]\n",
    "# # 批量排序 MUSK-feature `.pt`\n",
    "# - 按 (x,y) 坐标对 `bag_feats / coords` 排序  \n",
    "# - 默认保存为 `<原文件名>_sorted.pt`，如需覆盖原文件把 `suffix` 设为 `\"\"`  \n",
    "# - 建议在 **CPU** 上处理，避免显存占用  \n",
    "# - 如需并行，可自行把最底下的 `for` 换成 `joblib.Parallel` / `multiprocessing.Pool`\n",
    "\n",
    "# %%  导入依赖\n",
    "import os\n",
    "from pathlib import Path\n",
    "import torch\n",
    "import numpy as np\n",
    "from tqdm import tqdm\n",
    "\n",
    "# %%  参数：修改这里即可\n",
    "root_dir = \"/remote-home/share/lisj/Workspace/SOTA_NAS/datasets/core/MUSK-feature\"  # 待处理文件夹\n",
    "suffix    = \"\"      # 保存文件名后缀：\"\" 表示覆盖\n",
    "\n",
    "# %%  核心函数：处理单个 .pt\n",
    "def sort_one_pt(pt_path: Path, suffix: str = \"_sorted\") -> None:\n",
    "    \"\"\"加载→校验→按 coords 排序→保存\"\"\"\n",
    "    try:\n",
    "        data = torch.load(pt_path, map_location=\"cpu\", weights_only=False)\n",
    "    except Exception as e:\n",
    "        print(f\"[❌] 载入失败 {pt_path.name}: {e}\")\n",
    "        return\n",
    "\n",
    "    if not isinstance(data, dict) or \"bag_feats\" not in data or \"coords\" not in data:\n",
    "        print(f\"[⚠️] {pt_path.name} 缺少 bag_feats / coords，跳过\")\n",
    "        return\n",
    "    feats, coords = data[\"bag_feats\"], data[\"coords\"]\n",
    "    if coords.ndim != 2 or coords.shape[1] != 2:\n",
    "        print(f\"[⚠️] {pt_path.name} coords 维度异常 {coords.shape}，跳过\")\n",
    "        return\n",
    "    if feats.shape[0] != coords.shape[0]:\n",
    "        print(f\"[⚠️] {pt_path.name} feats/coords 行数不匹配，跳过\")\n",
    "        return\n",
    "\n",
    "    # 排序\n",
    "    idx = np.lexsort((coords[:, 1].numpy(), coords[:, 0].numpy()))\n",
    "    idx_t = torch.from_numpy(idx)\n",
    "    sorted_feats  = feats[idx_t]\n",
    "    sorted_coords = coords[idx_t]\n",
    "\n",
    "    out_path = pt_path if suffix == \"\" else pt_path.with_name(pt_path.stem + suffix + pt_path.suffix)\n",
    "    torch.save({\"bag_feats\": sorted_feats, \"coords\": sorted_coords}, out_path)\n",
    "\n",
    "# %%  批量遍历\n",
    "root = Path(root_dir).expanduser().resolve()\n",
    "pt_files = sorted(root.glob(\"*.pt\"))\n",
    "if not pt_files:\n",
    "    print(f\"在 {root} 下没有找到 .pt 文件\")\n",
    "else:\n",
    "    print(f\"共发现 {len(pt_files)} 个 .pt，开始处理…\")\n",
    "    for f in tqdm(pt_files, unit=\"file\"):\n",
    "        sort_one_pt(f, suffix=suffix)\n",
    "    print(\"✅ 全部完成！\")\n",
    "\n",
    "# %% [markdown]\n",
    "# ## 抽样验证（可选）\n",
    "# 运行下方单元查看任意一个 *_sorted.pt 是否已经按 `(x,y)` 递增\n",
    "\n",
    "# %%\n",
    "sample_file = pt_files[0].with_name(pt_files[0].stem + suffix + \".pt\")\n",
    "data = torch.load(sample_file, map_location=\"cpu\")\n",
    "print(\"前 5 行 coords：\\n\", data[\"coords\"][:5])\n",
    "print(\"后 5 行 coords：\\n\", data[\"coords\"][-5:])\n"
   ]
  },
  {
   "cell_type": "code",
   "execution_count": null,
   "metadata": {},
   "outputs": [],
   "source": []
  }
 ],
 "metadata": {
  "kernelspec": {
   "display_name": "musk",
   "language": "python",
   "name": "python3"
  },
  "language_info": {
   "codemirror_mode": {
    "name": "ipython",
    "version": 3
   },
   "file_extension": ".py",
   "mimetype": "text/x-python",
   "name": "python",
   "nbconvert_exporter": "python",
   "pygments_lexer": "ipython3",
   "version": "3.10.16"
  }
 },
 "nbformat": 4,
 "nbformat_minor": 2
}
