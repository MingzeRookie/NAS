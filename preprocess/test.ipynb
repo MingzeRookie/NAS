{
 "cells": [
  {
   "cell_type": "code",
   "execution_count": 1,
   "metadata": {},
   "outputs": [
    {
     "name": "stderr",
     "output_type": "stream",
     "text": [
      "/tmp/ipykernel_923804/2912165261.py:3: FutureWarning: You are using `torch.load` with `weights_only=False` (the current default value), which uses the default pickle module implicitly. It is possible to construct malicious pickle data which will execute arbitrary code during unpickling (See https://github.com/pytorch/pytorch/blob/main/SECURITY.md#untrusted-models for more details). In a future release, the default value for `weights_only` will be flipped to `True`. This limits the functions that could be executed during unpickling. Arbitrary objects will no longer be allowed to be loaded via this mode unless they are explicitly allowlisted by the user via `torch.serialization.add_safe_globals`. We recommend you start setting `weights_only=True` for any use case where you don't have full control of the loaded file. Please open an issue on GitHub for any issues related to this experimental feature.\n",
      "  feat_dict = torch.load(\"/remote-home/share/lisj/Workspace/SOTA_NAS/datasets/core/UNI-featrue-finetuned/1906548.pt\", map_location=\"cpu\")\n"
     ]
    },
    {
     "name": "stdout",
     "output_type": "stream",
     "text": [
      "<class 'dict'>\n",
      "6452\n",
      "['269_44', '271_137', '288_185', '266_129', '265_83']\n",
      "torch.Size([1536])\n"
     ]
    }
   ],
   "source": [
    "import torch\n",
    "\n",
    "feat_dict = torch.load(\"/remote-home/share/lisj/Workspace/SOTA_NAS/datasets/core/UNI-featrue-finetuned/1906548.pt\", map_location=\"cpu\")\n",
    "print(type(feat_dict))            # 应该是 <class 'dict'>\n",
    "print(len(feat_dict))             # patch 数量\n",
    "print(list(feat_dict.keys())[:5]) # 前五个 patch 名称\n",
    "print(feat_dict[\"256_46\"].shape) # e.g. torch.Size([1536])\n"
   ]
  },
  {
   "cell_type": "code",
   "execution_count": null,
   "metadata": {},
   "outputs": [],
   "source": []
  }
 ],
 "metadata": {
  "kernelspec": {
   "display_name": "nas",
   "language": "python",
   "name": "python3"
  },
  "language_info": {
   "codemirror_mode": {
    "name": "ipython",
    "version": 3
   },
   "file_extension": ".py",
   "mimetype": "text/x-python",
   "name": "python",
   "nbconvert_exporter": "python",
   "pygments_lexer": "ipython3",
   "version": "3.9.21"
  }
 },
 "nbformat": 4,
 "nbformat_minor": 2
}
