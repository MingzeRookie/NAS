{
 "cells": [
  {
   "cell_type": "code",
   "execution_count": 1,
   "metadata": {},
   "outputs": [],
   "source": [
    "import numpy as np\n",
    "import matplotlib.pyplot as plt \n",
    "import seaborn as sns \n",
    "import pandas as pd \n",
    "import re"
   ]
  },
  {
   "cell_type": "code",
   "execution_count": 2,
   "metadata": {},
   "outputs": [],
   "source": [
    "def read(file_path,model:str,encoder:str):\n",
    "    # 1. 从txt文件中读取内容\n",
    "    # file_path = \"../exp/encoder_com/steatosis/abmil/uni/log_metric.txt\"  # 替换为你的文件路径\n",
    "    with open(file_path, \"r\", encoding=\"utf-8\") as file:\n",
    "        lines = [line.strip() for line in file.readlines() if line.strip()]\n",
    "\n",
    "    # 2. 提取表头和有效数据行\n",
    "    header = ['FOLD','ACC','AUC','Kappa','F1','Precision','Recall']  # 提取表头\n",
    "    data_lines = lines  # 跳过表头和分隔行（例如\"|---|---|...\"）\n",
    "\n",
    "    # 3. 正则表达式提取数值\n",
    "    pattern = r\"(\\d+\\.\\d+)\"  # 匹配浮点数\n",
    "    processed_data = []\n",
    "    for line in data_lines:\n",
    "        # 提取FOLD编号和所有指标数值\n",
    "        parts = line.split(\",\")  # 去除首尾空列\n",
    "        fold_number = re.search(r\"FOLD: (\\d+)\", parts[0]).group(1)\n",
    "        values = [re.search(pattern, col).group(1) for col in parts]\n",
    "        processed_data.append([fold_number] + values)\n",
    "\n",
    "    # 4. 创建DataFrame并转换类型\n",
    "    columns = [\"Fold\"] + header[1:]  # 列名：Fold, ACC, AUC, Kappa, F1, Precision, Recall\n",
    "    df = pd.DataFrame(processed_data, columns=columns)\n",
    "    df = df.apply(pd.to_numeric)  # 转换为数值类型\n",
    "    df['classifier'] = [model]*len(df)\n",
    "    df['encoder'] = [encoder]*len(df)\n",
    "    return df"
   ]
  },
  {
   "cell_type": "code",
   "execution_count": 3,
   "metadata": {},
   "outputs": [],
   "source": [
    "df_1 = read('runs/2025_04_06_10_42_28/log_metric.txt','diff-5','uni')\n",
    "df_2 = read('runs/2025_04_06_10_43_46/log_metric.txt','diff-9','uni')"
   ]
  },
  {
   "cell_type": "code",
   "execution_count": 4,
   "metadata": {},
   "outputs": [
    {
     "name": "stderr",
     "output_type": "stream",
     "text": [
      "/tmp/ipykernel_2533458/1093976632.py:1: FutureWarning: Dropping of nuisance columns in DataFrame reductions (with 'numeric_only=None') is deprecated; in a future version this will raise TypeError.  Select only valid columns before calling the reduction.\n",
      "  df_1.mean(), df_2.mean()\n"
     ]
    },
    {
     "data": {
      "text/plain": [
       "(Fold         2.000000\n",
       " ACC          0.838889\n",
       " AUC          0.883484\n",
       " Kappa        0.896304\n",
       " F1           0.836145\n",
       " Precision    0.848910\n",
       " Recall       0.824768\n",
       " dtype: float64,\n",
       " Fold         2.000000\n",
       " ACC          0.840741\n",
       " AUC          0.873831\n",
       " Kappa        0.891913\n",
       " F1           0.832983\n",
       " Precision    0.834461\n",
       " Recall       0.831581\n",
       " dtype: float64)"
      ]
     },
     "execution_count": 4,
     "metadata": {},
     "output_type": "execute_result"
    }
   ],
   "source": [
    "df_1.mean(), df_2.mean()"
   ]
  },
  {
   "cell_type": "code",
   "execution_count": 10,
   "metadata": {},
   "outputs": [],
   "source": [
    "combined_df = pd.concat([df_1,df_2], axis=0, ignore_index=True)"
   ]
  },
  {
   "cell_type": "code",
   "execution_count": 14,
   "metadata": {},
   "outputs": [
    {
     "data": {
      "text/plain": [
       "(0.0, 1.0)"
      ]
     },
     "execution_count": 14,
     "metadata": {},
     "output_type": "execute_result"
    }
   ],
   "source": [
    "sns.catplot(data=combined_df, \n",
    "            x=\"classifier\", \n",
    "            y='ACC', \n",
    "            hue=\"classifier\", \n",
    "            kind=\"bar\",\n",
    "            # order=order,\n",
    "            palette='Set2')\n",
    "# plt.xticks(['mean','max','abmil','mambamil','wikg'])\n",
    "plt.ylim([0,1])"
   ]
  }
 ],
 "metadata": {
  "kernelspec": {
   "display_name": "mambamil",
   "language": "python",
   "name": "python3"
  },
  "language_info": {
   "codemirror_mode": {
    "name": "ipython",
    "version": 3
   },
   "file_extension": ".py",
   "mimetype": "text/x-python",
   "name": "python",
   "nbconvert_exporter": "python",
   "pygments_lexer": "ipython3",
   "version": "3.9.13"
  }
 },
 "nbformat": 4,
 "nbformat_minor": 2
}
