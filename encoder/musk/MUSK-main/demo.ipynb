{
 "cells": [
  {
   "cell_type": "markdown",
   "metadata": {},
   "source": [
    "# Import libs"
   ]
  },
  {
   "cell_type": "code",
   "execution_count": 2,
   "metadata": {},
   "outputs": [],
   "source": [
    "import torch\n",
    "from timm.models import create_model\n",
    "from musk import utils, modeling\n",
    "from PIL import Image\n",
    "from transformers import XLMRobertaTokenizer\n",
    "from timm.data.constants import IMAGENET_INCEPTION_MEAN, IMAGENET_INCEPTION_STD\n",
    "import torchvision\n",
    "# from huggingface_hub import login\n",
    "# login(<HF Token>)\n",
    "device = torch.device(\"cuda:4\")"
   ]
  },
  {
   "cell_type": "markdown",
   "metadata": {},
   "source": [
    "# Extract Image Embeddings\n",
    "\n",
    "- Set `ms_aug = True` for:  \n",
    "  - Linear probe classification  \n",
    "  - Multiple Instance Learning  \n",
    "\n",
    "- Set `ms_aug = False` for:  \n",
    "  - Zero-shot tasks (e.g., image-image retrieval and image-text retrieval)\n"
   ]
  },
  {
   "cell_type": "code",
   "execution_count": 3,
   "metadata": {},
   "outputs": [
    {
     "name": "stdout",
     "output_type": "stream",
     "text": [
      "Load ckpt from /remote-home/share/lisj/Workspace/SOTA_NAS/encoder/musk/checkpoint/model.safetensors\n",
      "torch.Size([1, 2048])\n"
     ]
    }
   ],
   "source": [
    "# >>>>>>>>>>>> load model >>>>>>>>>>>> #\n",
    "model_config = \"musk_large_patch16_384\"\n",
    "model = create_model(model_config).eval()\n",
    "local_ckpt = \"/remote-home/share/lisj/Workspace/SOTA_NAS/encoder/musk/checkpoint/model.safetensors\"\n",
    "utils.load_model_and_may_interpolate(local_ckpt, model, 'model|module', '')\n",
    "model.to(device, dtype=torch.float16)\n",
    "model.eval()\n",
    "# <<<<<<<<<<<< load model <<<<<<<<<<<< #\n",
    "\n",
    "# >>>>>>>>>>>> process image >>>>>>>>>>> #\n",
    "# load an image and process it\n",
    "img_size = 384\n",
    "transform = torchvision.transforms.Compose([\n",
    "    torchvision.transforms.Resize(img_size, interpolation=3, antialias=True),\n",
    "    torchvision.transforms.CenterCrop((img_size, img_size)),\n",
    "    torchvision.transforms.ToTensor(),\n",
    "    torchvision.transforms.Normalize(mean=IMAGENET_INCEPTION_MEAN, std=IMAGENET_INCEPTION_STD)\n",
    "])\n",
    "\n",
    "img = Image.open('/remote-home/share/lisj/Workspace/SOTA_NAS/datasets/core/patches/train/1819360/146_315.png').convert(\"RGB\")  # input image\n",
    "img_tensor = transform(img).unsqueeze(0)\n",
    "with torch.inference_mode():\n",
    "    image_embeddings = model(\n",
    "        image=img_tensor.to(device, dtype=torch.float16),\n",
    "        with_head=False, # We only use the retrieval head for image-text retrieval tasks.\n",
    "        out_norm=True,\n",
    "        ms_aug=True  # by default it is False, `image_embeddings` will be 1024-dim; if True, it will be 2048-dim.\n",
    "        )[0]  # return (vision_cls, text_cls)\n",
    "\n",
    "print(image_embeddings.shape)"
   ]
  },
  {
   "cell_type": "markdown",
   "metadata": {},
   "source": [
    "# Multimodal Retrieval Example"
   ]
  },
  {
   "cell_type": "code",
   "execution_count": null,
   "metadata": {},
   "outputs": [
    {
     "name": "stdout",
     "output_type": "stream",
     "text": [
      "Load ckpt from /remote-home/share/lisj/Workspace/SOTA_NAS/encoder/musk/checkpoint/model.safetensors\n",
      "text_embeddings.shape torch.Size([3, 1024])\n",
      "tensor([[0.3359, 0.3257, 0.3386]], device='cuda:4', dtype=torch.float16)\n"
     ]
    }
   ],
   "source": [
    "# >>>>>>>>>>>> load model >>>>>>>>>>>> #\n",
    "model_config = \"musk_large_patch16_384\"\n",
    "model = create_model(model_config).eval()\n",
    "local_ckpt = \"/remote-home/share/lisj/Workspace/SOTA_NAS/encoder/musk/checkpoint/model.safetensors\"\n",
    "utils.load_model_and_may_interpolate(local_ckpt, model, 'model|module', '')\n",
    "model.to(device, dtype=torch.float16)\n",
    "model.eval()\n",
    "# <<<<<<<<<<<< load model <<<<<<<<<<<< #\n",
    "\n",
    "# >>>>>>>>>>>> process image >>>>>>>>>>> #\n",
    "# load an image and process it\n",
    "img_size = 384\n",
    "transform = torchvision.transforms.Compose([\n",
    "    torchvision.transforms.Resize(img_size, interpolation=3, antialias=True),\n",
    "    torchvision.transforms.CenterCrop((img_size, img_size)),\n",
    "    torchvision.transforms.ToTensor(),\n",
    "    torchvision.transforms.Normalize(mean=IMAGENET_INCEPTION_MEAN, std=IMAGENET_INCEPTION_STD)\n",
    "])\n",
    "\n",
    "img = Image.open('/remote-home/share/lisj/Workspace/SOTA_NAS/datasets/core/patches/train/1819360/146_315.png').convert(\"RGB\")  # input image\n",
    "img_tensor = transform(img).unsqueeze(0)\n",
    "with torch.inference_mode():\n",
    "    image_embeddings = model(\n",
    "        image=img_tensor.to(device, dtype=torch.float16),\n",
    "        with_head=True,  # We only use the retrieval head for image-text retrieval tasks.\n",
    "        out_norm=True\n",
    "        )[0]  # return (vision_cls, text_cls)\n",
    "# <<<<<<<<<<< process image <<<<<<<<<<< #\n",
    "\n",
    "# >>>>>>>>>>> process language >>>>>>>>> #\n",
    "# load tokenzier for language input\n",
    "tokenizer = XLMRobertaTokenizer(\"./musk/models/tokenizer.spm\")\n",
    "labels = [\n",
    "        \"healthy liver\",          # 正常\n",
    "        \"simple steatosis (NAFL)\",# 单纯脂肪肝\n",
    "        \"non-alcoholic steatohepatitis (NASH)\"  # NASH\n",
    "        # \"alcoholic steatohepatitis (ASH)\",  # 酒精脂肪肝\n",
    "        ]\n",
    "\n",
    "texts = ['histopathology image of ' + item for item in labels]\n",
    "text_ids = []\n",
    "paddings = []\n",
    "for txt in texts:\n",
    "    txt_ids, pad = utils.xlm_tokenizer(txt, tokenizer, max_len=100)\n",
    "    text_ids.append(torch.tensor(txt_ids).unsqueeze(0))\n",
    "    paddings.append(torch.tensor(pad).unsqueeze(0))\n",
    "\n",
    "text_ids = torch.cat(text_ids)\n",
    "paddings = torch.cat(paddings)\n",
    "with torch.inference_mode():\n",
    "    text_embeddings = model(\n",
    "        text_description=text_ids.to(device),\n",
    "        padding_mask=paddings.to(device),\n",
    "        with_head=True, \n",
    "        out_norm=True\n",
    "    )[1]  # return (vision_cls, text_cls)\n",
    "# <<<<<<<<<<<< process language <<<<<<<<<<< #\n",
    "\n",
    "# >>>>>>>>>>>>> calculate similarity >>>>>>> #\n",
    "with torch.inference_mode():\n",
    "    # expected prob:[0.3782, 0.3247, 0.2969]  --> lung adenocarcinoma\n",
    "    sim = model.logit_scale * image_embeddings @ text_embeddings.T\n",
    "    prob = sim.softmax(dim=-1)\n",
    "    print(prob)"
   ]
  },
  {
   "cell_type": "code",
   "execution_count": null,
   "metadata": {},
   "outputs": [],
   "source": []
  }
 ],
 "metadata": {
  "kernelspec": {
   "display_name": "musk",
   "language": "python",
   "name": "python3"
  },
  "language_info": {
   "codemirror_mode": {
    "name": "ipython",
    "version": 3
   },
   "file_extension": ".py",
   "mimetype": "text/x-python",
   "name": "python",
   "nbconvert_exporter": "python",
   "pygments_lexer": "ipython3",
   "version": "3.10.16"
  }
 },
 "nbformat": 4,
 "nbformat_minor": 2
}
